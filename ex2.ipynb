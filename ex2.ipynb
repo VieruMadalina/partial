{
 "cells": [
  {
   "cell_type": "code",
   "execution_count": null,
   "metadata": {},
   "outputs": [],
   "source": [
    "#Exercitiul 2\n",
    "#Recomandarea o putem face pe baza corelatiilor:\n",
    "   # -putem face recomandari doar daca variabilele sunt corelate intre ele, adica legatura sa fie una directa si puternica .\n",
    "   # -daca corelatia este 0,atunci nu este nici o legatura intre variabile, dupa cum bine s-a vazut(am eliminat variabilele ).\n",
    "# Se recomanda pastrarea corelatiilor pozitive si imbunatatirea modelului.\n"
   ]
  }
 ],
 "metadata": {
  "kernelspec": {
   "display_name": "Python 3",
   "language": "python",
   "name": "python3"
  },
  "language_info": {
   "codemirror_mode": {
    "name": "ipython",
    "version": 3
   },
   "file_extension": ".py",
   "mimetype": "text/x-python",
   "name": "python",
   "nbconvert_exporter": "python",
   "pygments_lexer": "ipython3",
   "version": "3.7.4"
  }
 },
 "nbformat": 4,
 "nbformat_minor": 2
}
